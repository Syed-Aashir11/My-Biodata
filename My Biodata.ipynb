{
 "cells": [
  {
   "cell_type": "code",
   "execution_count": 18,
   "id": "prospective-sapphire",
   "metadata": {},
   "outputs": [],
   "source": [
    "from tkinter import *\n",
    "from tkinter import ttk\n",
    "window = Tk()\n",
    "window.title(\"My Biodata\")\n",
    "window.geometry('400x400')\n",
    "window.configure(background = \"light green\");\n",
    "a = Label(window ,text = \"Name: Syed Aashir\").grid(row = 0,column = 0)\n",
    "b = Label(window ,text = \"Father Name: Syed Abdul Basir\").grid(row = 1,column = 0)\n",
    "c = Label(window ,text = \"Class: 5\").grid(row = 2,column = 0)\n",
    "d = Label(window ,text = \"Country:  Pakistan\").grid(row = 3,column = 0)\n",
    "e = Label(window ,text = \"Qualification:  I am a Python programmer\").grid(row = 4,column = 0)\n",
    "f = Label(window ,text = \"Age: 10\").grid(row = 5,column = 0)\n",
    "g = Label(window ,text = \"Skills: Python programmer\").grid(row = 6,column = 0)\n",
    "h = Label(window ,text = \"Email.ID: aashir.gr667818\").grid(row = 7,column = 0)\n",
    "\n",
    "window.mainloop()"
   ]
  },
  {
   "cell_type": "code",
   "execution_count": null,
   "id": "chinese-whale",
   "metadata": {},
   "outputs": [],
   "source": []
  }
 ],
 "metadata": {
  "kernelspec": {
   "display_name": "Python 3",
   "language": "python",
   "name": "python3"
  },
  "language_info": {
   "codemirror_mode": {
    "name": "ipython",
    "version": 3
   },
   "file_extension": ".py",
   "mimetype": "text/x-python",
   "name": "python",
   "nbconvert_exporter": "python",
   "pygments_lexer": "ipython3",
   "version": "3.8.7"
  }
 },
 "nbformat": 4,
 "nbformat_minor": 5
}
